{
 "cells": [
  {
   "cell_type": "code",
   "id": "initial_id",
   "metadata": {
    "collapsed": true,
    "ExecuteTime": {
     "end_time": "2024-11-26T21:25:23.124609Z",
     "start_time": "2024-11-26T21:25:23.121687Z"
    }
   },
   "source": [
    "import pandas as pd\n",
    "import numpy as np"
   ],
   "outputs": [],
   "execution_count": 262
  },
  {
   "metadata": {},
   "cell_type": "markdown",
   "source": "",
   "id": "9777f3acea79548c"
  },
  {
   "metadata": {
    "ExecuteTime": {
     "end_time": "2024-11-26T21:25:23.165857Z",
     "start_time": "2024-11-26T21:25:23.147521Z"
    }
   },
   "cell_type": "code",
   "source": [
    "data = pd.read_csv('Healthcare-Diabetes.csv')\n",
    "data"
   ],
   "id": "a8af3e8c3d7cb177",
   "outputs": [
    {
     "data": {
      "text/plain": [
       "      Pregnancies  Glucose  BloodPressure  SkinThickness  Insulin   BMI  \\\n",
       "0               6      148             72             35        0  33.6   \n",
       "1               1       85             66             29        0  26.6   \n",
       "2               8      183             64              0        0  23.3   \n",
       "3               1       89             66             23       94  28.1   \n",
       "4               0      137             40             35      168  43.1   \n",
       "...           ...      ...            ...            ...      ...   ...   \n",
       "2763            2       75             64             24       55  29.7   \n",
       "2764            8      179             72             42      130  32.7   \n",
       "2765            6       85             78              0        0  31.2   \n",
       "2766            0      129            110             46      130  67.1   \n",
       "2767            2       81             72             15       76  30.1   \n",
       "\n",
       "      DiabetesPedigreeFunction  Age  Outcome  \n",
       "0                        0.627   50        1  \n",
       "1                        0.351   31        0  \n",
       "2                        0.672   32        1  \n",
       "3                        0.167   21        0  \n",
       "4                        2.288   33        1  \n",
       "...                        ...  ...      ...  \n",
       "2763                     0.370   33        0  \n",
       "2764                     0.719   36        1  \n",
       "2765                     0.382   42        0  \n",
       "2766                     0.319   26        1  \n",
       "2767                     0.547   25        0  \n",
       "\n",
       "[2768 rows x 9 columns]"
      ],
      "text/html": [
       "<div>\n",
       "<style scoped>\n",
       "    .dataframe tbody tr th:only-of-type {\n",
       "        vertical-align: middle;\n",
       "    }\n",
       "\n",
       "    .dataframe tbody tr th {\n",
       "        vertical-align: top;\n",
       "    }\n",
       "\n",
       "    .dataframe thead th {\n",
       "        text-align: right;\n",
       "    }\n",
       "</style>\n",
       "<table border=\"1\" class=\"dataframe\">\n",
       "  <thead>\n",
       "    <tr style=\"text-align: right;\">\n",
       "      <th></th>\n",
       "      <th>Pregnancies</th>\n",
       "      <th>Glucose</th>\n",
       "      <th>BloodPressure</th>\n",
       "      <th>SkinThickness</th>\n",
       "      <th>Insulin</th>\n",
       "      <th>BMI</th>\n",
       "      <th>DiabetesPedigreeFunction</th>\n",
       "      <th>Age</th>\n",
       "      <th>Outcome</th>\n",
       "    </tr>\n",
       "  </thead>\n",
       "  <tbody>\n",
       "    <tr>\n",
       "      <th>0</th>\n",
       "      <td>6</td>\n",
       "      <td>148</td>\n",
       "      <td>72</td>\n",
       "      <td>35</td>\n",
       "      <td>0</td>\n",
       "      <td>33.6</td>\n",
       "      <td>0.627</td>\n",
       "      <td>50</td>\n",
       "      <td>1</td>\n",
       "    </tr>\n",
       "    <tr>\n",
       "      <th>1</th>\n",
       "      <td>1</td>\n",
       "      <td>85</td>\n",
       "      <td>66</td>\n",
       "      <td>29</td>\n",
       "      <td>0</td>\n",
       "      <td>26.6</td>\n",
       "      <td>0.351</td>\n",
       "      <td>31</td>\n",
       "      <td>0</td>\n",
       "    </tr>\n",
       "    <tr>\n",
       "      <th>2</th>\n",
       "      <td>8</td>\n",
       "      <td>183</td>\n",
       "      <td>64</td>\n",
       "      <td>0</td>\n",
       "      <td>0</td>\n",
       "      <td>23.3</td>\n",
       "      <td>0.672</td>\n",
       "      <td>32</td>\n",
       "      <td>1</td>\n",
       "    </tr>\n",
       "    <tr>\n",
       "      <th>3</th>\n",
       "      <td>1</td>\n",
       "      <td>89</td>\n",
       "      <td>66</td>\n",
       "      <td>23</td>\n",
       "      <td>94</td>\n",
       "      <td>28.1</td>\n",
       "      <td>0.167</td>\n",
       "      <td>21</td>\n",
       "      <td>0</td>\n",
       "    </tr>\n",
       "    <tr>\n",
       "      <th>4</th>\n",
       "      <td>0</td>\n",
       "      <td>137</td>\n",
       "      <td>40</td>\n",
       "      <td>35</td>\n",
       "      <td>168</td>\n",
       "      <td>43.1</td>\n",
       "      <td>2.288</td>\n",
       "      <td>33</td>\n",
       "      <td>1</td>\n",
       "    </tr>\n",
       "    <tr>\n",
       "      <th>...</th>\n",
       "      <td>...</td>\n",
       "      <td>...</td>\n",
       "      <td>...</td>\n",
       "      <td>...</td>\n",
       "      <td>...</td>\n",
       "      <td>...</td>\n",
       "      <td>...</td>\n",
       "      <td>...</td>\n",
       "      <td>...</td>\n",
       "    </tr>\n",
       "    <tr>\n",
       "      <th>2763</th>\n",
       "      <td>2</td>\n",
       "      <td>75</td>\n",
       "      <td>64</td>\n",
       "      <td>24</td>\n",
       "      <td>55</td>\n",
       "      <td>29.7</td>\n",
       "      <td>0.370</td>\n",
       "      <td>33</td>\n",
       "      <td>0</td>\n",
       "    </tr>\n",
       "    <tr>\n",
       "      <th>2764</th>\n",
       "      <td>8</td>\n",
       "      <td>179</td>\n",
       "      <td>72</td>\n",
       "      <td>42</td>\n",
       "      <td>130</td>\n",
       "      <td>32.7</td>\n",
       "      <td>0.719</td>\n",
       "      <td>36</td>\n",
       "      <td>1</td>\n",
       "    </tr>\n",
       "    <tr>\n",
       "      <th>2765</th>\n",
       "      <td>6</td>\n",
       "      <td>85</td>\n",
       "      <td>78</td>\n",
       "      <td>0</td>\n",
       "      <td>0</td>\n",
       "      <td>31.2</td>\n",
       "      <td>0.382</td>\n",
       "      <td>42</td>\n",
       "      <td>0</td>\n",
       "    </tr>\n",
       "    <tr>\n",
       "      <th>2766</th>\n",
       "      <td>0</td>\n",
       "      <td>129</td>\n",
       "      <td>110</td>\n",
       "      <td>46</td>\n",
       "      <td>130</td>\n",
       "      <td>67.1</td>\n",
       "      <td>0.319</td>\n",
       "      <td>26</td>\n",
       "      <td>1</td>\n",
       "    </tr>\n",
       "    <tr>\n",
       "      <th>2767</th>\n",
       "      <td>2</td>\n",
       "      <td>81</td>\n",
       "      <td>72</td>\n",
       "      <td>15</td>\n",
       "      <td>76</td>\n",
       "      <td>30.1</td>\n",
       "      <td>0.547</td>\n",
       "      <td>25</td>\n",
       "      <td>0</td>\n",
       "    </tr>\n",
       "  </tbody>\n",
       "</table>\n",
       "<p>2768 rows × 9 columns</p>\n",
       "</div>"
      ]
     },
     "execution_count": 263,
     "metadata": {},
     "output_type": "execute_result"
    }
   ],
   "execution_count": 263
  },
  {
   "metadata": {
    "ExecuteTime": {
     "end_time": "2024-11-26T21:25:23.232776Z",
     "start_time": "2024-11-26T21:25:23.222895Z"
    }
   },
   "cell_type": "code",
   "source": [
    "y = np.array(data.iloc[:,-1])\n",
    "X = np.array(data.iloc[:,-9:-1])\n",
    "\n",
    "y_train = y[:int(len(y)*0.8)]\n",
    "y_test = y[int(len(y)*0.8):]\n",
    "\n",
    "X_train = X[:int(len(X)*0.8)]\n",
    "X_test = X[int(len(X)*0.8):]\n",
    "\n",
    "X_test\n"
   ],
   "id": "dd3b1af0c654e35f",
   "outputs": [
    {
     "data": {
      "text/plain": [
       "array([[  4.   ,  96.   ,  56.   , ...,  20.8  ,   0.34 ,  26.   ],\n",
       "       [  5.   , 108.   ,  72.   , ...,  36.1  ,   0.263,  33.   ],\n",
       "       [  0.   ,  78.   ,  88.   , ...,  36.9  ,   0.434,  21.   ],\n",
       "       ...,\n",
       "       [  6.   ,  85.   ,  78.   , ...,  31.2  ,   0.382,  42.   ],\n",
       "       [  0.   , 129.   , 110.   , ...,  67.1  ,   0.319,  26.   ],\n",
       "       [  2.   ,  81.   ,  72.   , ...,  30.1  ,   0.547,  25.   ]])"
      ]
     },
     "execution_count": 264,
     "metadata": {},
     "output_type": "execute_result"
    }
   ],
   "execution_count": 264
  },
  {
   "metadata": {
    "ExecuteTime": {
     "end_time": "2024-11-26T21:25:23.322903Z",
     "start_time": "2024-11-26T21:25:23.315899Z"
    }
   },
   "cell_type": "code",
   "source": [
    "from sklearn.preprocessing import StandardScaler\n",
    "\n",
    "scaler = StandardScaler()\n",
    "X_train = scaler.fit_transform(X_train)\n",
    "X_test = scaler.transform(X_test)\n"
   ],
   "id": "fa918997bda6b529",
   "outputs": [],
   "execution_count": 265
  },
  {
   "metadata": {
    "ExecuteTime": {
     "end_time": "2024-11-26T21:25:23.390238Z",
     "start_time": "2024-11-26T21:25:23.383670Z"
    }
   },
   "cell_type": "code",
   "source": [
    "class LogisticRegression:\n",
    "    def __init__(self, lr=0.01):\n",
    "        self.lr = lr\n",
    "        self.w = None\n",
    "        self.b = 0\n",
    "\n",
    "    def sigmoid(self, z):\n",
    "        return 1 / (1 + np.exp(-z))\n",
    "\n",
    "    def Z(self, X):\n",
    "        return np.dot(X, self.w) + self.b\n",
    "\n",
    "    def loss_function(self, X_train, y_train):\n",
    "        predictions = self.sigmoid(self.Z(X_train))\n",
    "        loss = -np.mean(y_train * np.log(predictions) + (1 - y_train) * np.log(1 - predictions))\n",
    "        return loss\n",
    "\n",
    "    def gradient(self, X_train, y_train):\n",
    "        m = X_train.shape[0]\n",
    "        predictions = self.sigmoid(self.Z(X_train))\n",
    "        error = predictions - y_train\n",
    "        dw = (1 / m) * np.dot(X_train.T, error)\n",
    "        db = (1 / m) * np.sum(error)\n",
    "        return dw, db\n",
    "\n",
    "    def fit(self, X_train, y_train, epochs):\n",
    "        self.w = np.zeros(X_train.shape[1])  \n",
    "        for i in range(epochs):\n",
    "            dw, db = self.gradient(X_train, y_train)\n",
    "            self.w -= self.lr * dw\n",
    "            self.b -= self.lr * db\n",
    "        print(f\"Loss = {self.loss_function(X_train, y_train)}\")\n",
    "\n",
    "    def predict(self, X_test, threshold=0.5):\n",
    "        probabilities = self.sigmoid(self.Z(X_test))\n",
    "        return (probabilities >= threshold).astype(int)\n"
   ],
   "id": "c68080038bf8e9d6",
   "outputs": [],
   "execution_count": 266
  },
  {
   "metadata": {
    "ExecuteTime": {
     "end_time": "2024-11-26T21:25:23.429976Z",
     "start_time": "2024-11-26T21:25:23.425211Z"
    }
   },
   "cell_type": "code",
   "source": [
    "\"\"\"\"\n",
    "Pregnancies : Number of times pregnant.\n",
    "Glucose : Plasma glucose concentration over 2 hours in an oral glucose tolerance test.\n",
    "BloodPressure : Diastolic blood pressure (mm Hg).\n",
    "SkinThickness : Triceps skinfold thickness (mm).\n",
    "Insulin : 2-Hour serum insulin (mu U/ml).\n",
    "BMI : Body mass index (weight in kg / height in m^2).\n",
    "DiabetesPedigreeFunction : Diabetes pedigree function, a genetic score of diabetes.\n",
    "Age : Age in years.\n",
    "\n",
    "\"\"\"\n"
   ],
   "id": "763be6b262f0ba09",
   "outputs": [
    {
     "data": {
      "text/plain": [
       "'\"\\nPregnancies : Number of times pregnant.\\nGlucose : Plasma glucose concentration over 2 hours in an oral glucose tolerance test.\\nBloodPressure : Diastolic blood pressure (mm Hg).\\nSkinThickness : Triceps skinfold thickness (mm).\\nInsulin : 2-Hour serum insulin (mu U/ml).\\nBMI : Body mass index (weight in kg / height in m^2).\\nDiabetesPedigreeFunction : Diabetes pedigree function, a genetic score of diabetes.\\nAge : Age in years.\\n\\n'"
      ]
     },
     "execution_count": 267,
     "metadata": {},
     "output_type": "execute_result"
    }
   ],
   "execution_count": 267
  },
  {
   "metadata": {
    "ExecuteTime": {
     "end_time": "2024-11-26T21:25:29.820220Z",
     "start_time": "2024-11-26T21:25:23.540081Z"
    }
   },
   "cell_type": "code",
   "source": [
    "model = LogisticRegression()\n",
    "model.fit(X_train,y_train,100000)\n",
    "X_test = X_test[:100]\n",
    "print(model.predict(X_test))\n"
   ],
   "id": "48b718bcea599b7",
   "outputs": [
    {
     "name": "stdout",
     "output_type": "stream",
     "text": [
      "Loss = 0.47026097865090793\n",
      "[0 0 0 0 1 0 0 1 0 0 0 0 1 0 0 0 0 1 1 0 0 1 1 0 0 1 0 0 1 0 1 0 0 0 0 0 0\n",
      " 1 1 0 1 0 0 0 0 0 0 0 1 1 0 0 0 1 0 0 0 0 1 0 0 0 0 0 0 0 0 0 1 0 0 1 1 0\n",
      " 0 0 0 0 0 0 0 1 1 1 0 0 0 0 0 0 0 0 0 1 0 0 0 1 0 0]\n"
     ]
    }
   ],
   "execution_count": 268
  }
 ],
 "metadata": {
  "kernelspec": {
   "display_name": "Python 3",
   "language": "python",
   "name": "python3"
  },
  "language_info": {
   "codemirror_mode": {
    "name": "ipython",
    "version": 2
   },
   "file_extension": ".py",
   "mimetype": "text/x-python",
   "name": "python",
   "nbconvert_exporter": "python",
   "pygments_lexer": "ipython2",
   "version": "2.7.6"
  }
 },
 "nbformat": 4,
 "nbformat_minor": 5
}
