{
 "cells": [
  {
   "cell_type": "code",
   "id": "initial_id",
   "metadata": {
    "collapsed": true,
    "ExecuteTime": {
     "end_time": "2024-11-26T21:15:23.057428Z",
     "start_time": "2024-11-26T21:15:23.054545Z"
    }
   },
   "source": [
    "import pandas as pd\n",
    "import numpy as np"
   ],
   "outputs": [],
   "execution_count": 224
  },
  {
   "metadata": {},
   "cell_type": "markdown",
   "source": "",
   "id": "9777f3acea79548c"
  },
  {
   "metadata": {
    "ExecuteTime": {
     "end_time": "2024-11-26T21:15:23.099238Z",
     "start_time": "2024-11-26T21:15:23.081368Z"
    }
   },
   "cell_type": "code",
   "source": [
    "data = pd.read_csv('Healthcare-Diabetes.csv')\n",
    "data"
   ],
   "id": "a8af3e8c3d7cb177",
   "outputs": [
    {
     "data": {
      "text/plain": [
       "      Pregnancies  Glucose  BloodPressure  SkinThickness  Insulin   BMI  \\\n",
       "0               6      148             72             35        0  33.6   \n",
       "1               1       85             66             29        0  26.6   \n",
       "2               8      183             64              0        0  23.3   \n",
       "3               1       89             66             23       94  28.1   \n",
       "4               0      137             40             35      168  43.1   \n",
       "...           ...      ...            ...            ...      ...   ...   \n",
       "2763            2       75             64             24       55  29.7   \n",
       "2764            8      179             72             42      130  32.7   \n",
       "2765            6       85             78              0        0  31.2   \n",
       "2766            0      129            110             46      130  67.1   \n",
       "2767            2       81             72             15       76  30.1   \n",
       "\n",
       "      DiabetesPedigreeFunction  Age  Outcome  \n",
       "0                        0.627   50        1  \n",
       "1                        0.351   31        0  \n",
       "2                        0.672   32        1  \n",
       "3                        0.167   21        0  \n",
       "4                        2.288   33        1  \n",
       "...                        ...  ...      ...  \n",
       "2763                     0.370   33        0  \n",
       "2764                     0.719   36        1  \n",
       "2765                     0.382   42        0  \n",
       "2766                     0.319   26        1  \n",
       "2767                     0.547   25        0  \n",
       "\n",
       "[2768 rows x 9 columns]"
      ],
      "text/html": [
       "<div>\n",
       "<style scoped>\n",
       "    .dataframe tbody tr th:only-of-type {\n",
       "        vertical-align: middle;\n",
       "    }\n",
       "\n",
       "    .dataframe tbody tr th {\n",
       "        vertical-align: top;\n",
       "    }\n",
       "\n",
       "    .dataframe thead th {\n",
       "        text-align: right;\n",
       "    }\n",
       "</style>\n",
       "<table border=\"1\" class=\"dataframe\">\n",
       "  <thead>\n",
       "    <tr style=\"text-align: right;\">\n",
       "      <th></th>\n",
       "      <th>Pregnancies</th>\n",
       "      <th>Glucose</th>\n",
       "      <th>BloodPressure</th>\n",
       "      <th>SkinThickness</th>\n",
       "      <th>Insulin</th>\n",
       "      <th>BMI</th>\n",
       "      <th>DiabetesPedigreeFunction</th>\n",
       "      <th>Age</th>\n",
       "      <th>Outcome</th>\n",
       "    </tr>\n",
       "  </thead>\n",
       "  <tbody>\n",
       "    <tr>\n",
       "      <th>0</th>\n",
       "      <td>6</td>\n",
       "      <td>148</td>\n",
       "      <td>72</td>\n",
       "      <td>35</td>\n",
       "      <td>0</td>\n",
       "      <td>33.6</td>\n",
       "      <td>0.627</td>\n",
       "      <td>50</td>\n",
       "      <td>1</td>\n",
       "    </tr>\n",
       "    <tr>\n",
       "      <th>1</th>\n",
       "      <td>1</td>\n",
       "      <td>85</td>\n",
       "      <td>66</td>\n",
       "      <td>29</td>\n",
       "      <td>0</td>\n",
       "      <td>26.6</td>\n",
       "      <td>0.351</td>\n",
       "      <td>31</td>\n",
       "      <td>0</td>\n",
       "    </tr>\n",
       "    <tr>\n",
       "      <th>2</th>\n",
       "      <td>8</td>\n",
       "      <td>183</td>\n",
       "      <td>64</td>\n",
       "      <td>0</td>\n",
       "      <td>0</td>\n",
       "      <td>23.3</td>\n",
       "      <td>0.672</td>\n",
       "      <td>32</td>\n",
       "      <td>1</td>\n",
       "    </tr>\n",
       "    <tr>\n",
       "      <th>3</th>\n",
       "      <td>1</td>\n",
       "      <td>89</td>\n",
       "      <td>66</td>\n",
       "      <td>23</td>\n",
       "      <td>94</td>\n",
       "      <td>28.1</td>\n",
       "      <td>0.167</td>\n",
       "      <td>21</td>\n",
       "      <td>0</td>\n",
       "    </tr>\n",
       "    <tr>\n",
       "      <th>4</th>\n",
       "      <td>0</td>\n",
       "      <td>137</td>\n",
       "      <td>40</td>\n",
       "      <td>35</td>\n",
       "      <td>168</td>\n",
       "      <td>43.1</td>\n",
       "      <td>2.288</td>\n",
       "      <td>33</td>\n",
       "      <td>1</td>\n",
       "    </tr>\n",
       "    <tr>\n",
       "      <th>...</th>\n",
       "      <td>...</td>\n",
       "      <td>...</td>\n",
       "      <td>...</td>\n",
       "      <td>...</td>\n",
       "      <td>...</td>\n",
       "      <td>...</td>\n",
       "      <td>...</td>\n",
       "      <td>...</td>\n",
       "      <td>...</td>\n",
       "    </tr>\n",
       "    <tr>\n",
       "      <th>2763</th>\n",
       "      <td>2</td>\n",
       "      <td>75</td>\n",
       "      <td>64</td>\n",
       "      <td>24</td>\n",
       "      <td>55</td>\n",
       "      <td>29.7</td>\n",
       "      <td>0.370</td>\n",
       "      <td>33</td>\n",
       "      <td>0</td>\n",
       "    </tr>\n",
       "    <tr>\n",
       "      <th>2764</th>\n",
       "      <td>8</td>\n",
       "      <td>179</td>\n",
       "      <td>72</td>\n",
       "      <td>42</td>\n",
       "      <td>130</td>\n",
       "      <td>32.7</td>\n",
       "      <td>0.719</td>\n",
       "      <td>36</td>\n",
       "      <td>1</td>\n",
       "    </tr>\n",
       "    <tr>\n",
       "      <th>2765</th>\n",
       "      <td>6</td>\n",
       "      <td>85</td>\n",
       "      <td>78</td>\n",
       "      <td>0</td>\n",
       "      <td>0</td>\n",
       "      <td>31.2</td>\n",
       "      <td>0.382</td>\n",
       "      <td>42</td>\n",
       "      <td>0</td>\n",
       "    </tr>\n",
       "    <tr>\n",
       "      <th>2766</th>\n",
       "      <td>0</td>\n",
       "      <td>129</td>\n",
       "      <td>110</td>\n",
       "      <td>46</td>\n",
       "      <td>130</td>\n",
       "      <td>67.1</td>\n",
       "      <td>0.319</td>\n",
       "      <td>26</td>\n",
       "      <td>1</td>\n",
       "    </tr>\n",
       "    <tr>\n",
       "      <th>2767</th>\n",
       "      <td>2</td>\n",
       "      <td>81</td>\n",
       "      <td>72</td>\n",
       "      <td>15</td>\n",
       "      <td>76</td>\n",
       "      <td>30.1</td>\n",
       "      <td>0.547</td>\n",
       "      <td>25</td>\n",
       "      <td>0</td>\n",
       "    </tr>\n",
       "  </tbody>\n",
       "</table>\n",
       "<p>2768 rows × 9 columns</p>\n",
       "</div>"
      ]
     },
     "execution_count": 225,
     "metadata": {},
     "output_type": "execute_result"
    }
   ],
   "execution_count": 225
  },
  {
   "metadata": {
    "ExecuteTime": {
     "end_time": "2024-11-26T21:15:23.158850Z",
     "start_time": "2024-11-26T21:15:23.152212Z"
    }
   },
   "cell_type": "code",
   "source": [
    "y = np.array(data.iloc[:,-1])\n",
    "X = np.array(data.iloc[:,-9:-1])\n",
    "\n",
    "y_train = y[:int(len(y)*0.8)]\n",
    "y_test = y[int(len(y)*0.8):]\n",
    "\n",
    "X_train = X[:int(len(X)*0.8)]\n",
    "X_test = X[int(len(X)*0.8):]\n",
    "\n",
    "X_test\n"
   ],
   "id": "dd3b1af0c654e35f",
   "outputs": [
    {
     "data": {
      "text/plain": [
       "array([[  4.   ,  96.   ,  56.   , ...,  20.8  ,   0.34 ,  26.   ],\n",
       "       [  5.   , 108.   ,  72.   , ...,  36.1  ,   0.263,  33.   ],\n",
       "       [  0.   ,  78.   ,  88.   , ...,  36.9  ,   0.434,  21.   ],\n",
       "       ...,\n",
       "       [  6.   ,  85.   ,  78.   , ...,  31.2  ,   0.382,  42.   ],\n",
       "       [  0.   , 129.   , 110.   , ...,  67.1  ,   0.319,  26.   ],\n",
       "       [  2.   ,  81.   ,  72.   , ...,  30.1  ,   0.547,  25.   ]])"
      ]
     },
     "execution_count": 226,
     "metadata": {},
     "output_type": "execute_result"
    }
   ],
   "execution_count": 226
  },
  {
   "metadata": {
    "ExecuteTime": {
     "end_time": "2024-11-26T21:15:32.533941Z",
     "start_time": "2024-11-26T21:15:32.526440Z"
    }
   },
   "cell_type": "code",
   "source": [
    "from sklearn.preprocessing import StandardScaler\n",
    "\n",
    "scaler = StandardScaler()\n",
    "X_train = scaler.fit_transform(X_train)\n",
    "X_test = scaler.transform(X_test)\n",
    "\n"
   ],
   "id": "fa918997bda6b529",
   "outputs": [
    {
     "data": {
      "text/plain": [
       "array([[ 0.65960148,  0.84274141,  0.14810432, ...,  0.19754209,\n",
       "         0.47487214,  1.42939185],\n",
       "       [-0.83452342, -1.12352364, -0.16557836, ..., -0.70425392,\n",
       "        -0.36747882, -0.18393784],\n",
       "       [ 1.25725144,  1.93511088, -0.27013925, ..., -1.12938633,\n",
       "         0.61221197, -0.09902575],\n",
       "       ...,\n",
       "       [ 0.95842646,  0.46821473,  0.25266521, ..., -0.78155072,\n",
       "         0.53591207,  1.51430394],\n",
       "       [ 0.3607765 ,  1.0612153 ,  0.77546967, ...,  0.8545649 ,\n",
       "         0.45045617,  0.07079843],\n",
       "       [-0.83452342, -0.06236473,  0.88003056, ...,  1.74347811,\n",
       "         1.02728346, -0.35376202]])"
      ]
     },
     "execution_count": 231,
     "metadata": {},
     "output_type": "execute_result"
    }
   ],
   "execution_count": 231
  },
  {
   "metadata": {
    "ExecuteTime": {
     "end_time": "2024-11-26T21:15:23.325117Z",
     "start_time": "2024-11-26T21:15:23.317354Z"
    }
   },
   "cell_type": "code",
   "source": [
    "class LogisticRegression:\n",
    "    def __init__(self, lr=0.001):\n",
    "        self.lr = lr\n",
    "        self.w = None\n",
    "        self.b = 0\n",
    "\n",
    "    def sigmoid(self, z):\n",
    "        return 1 / (1 + np.exp(-z))\n",
    "\n",
    "    def Z(self, X):\n",
    "        return np.dot(X, self.w) + self.b\n",
    "\n",
    "    def loss_function(self, X_train, y_train):\n",
    "        predictions = self.sigmoid(self.Z(X_train))\n",
    "        loss = -np.mean(y_train * np.log(predictions) + (1 - y_train) * np.log(1 - predictions))\n",
    "        return loss\n",
    "\n",
    "    def gradient(self, X_train, y_train):\n",
    "        m = X_train.shape[0]\n",
    "        predictions = self.sigmoid(self.Z(X_train))\n",
    "        error = predictions - y_train\n",
    "        dw = (1 / m) * np.dot(X_train.T, error)\n",
    "        db = (1 / m) * np.sum(error)\n",
    "        return dw, db\n",
    "\n",
    "    def fit(self, X_train, y_train, epochs):\n",
    "        self.w = np.zeros(X_train.shape[1])  \n",
    "        for i in range(epochs):\n",
    "            dw, db = self.gradient(X_train, y_train)\n",
    "            self.w -= self.lr * dw\n",
    "            self.b -= self.lr * db\n",
    "            if i % 100 == 0:  \n",
    "                print(f\"Epoch {i}: Loss = {self.loss_function(X_train, y_train)}\")\n",
    "\n",
    "    def predict(self, X_test, threshold=0.5):\n",
    "        probabilities = self.sigmoid(self.Z(X_test))\n",
    "        return (probabilities >= threshold).astype(int)\n"
   ],
   "id": "c68080038bf8e9d6",
   "outputs": [],
   "execution_count": 228
  },
  {
   "metadata": {
    "ExecuteTime": {
     "end_time": "2024-11-26T21:15:23.374583Z",
     "start_time": "2024-11-26T21:15:23.370003Z"
    }
   },
   "cell_type": "code",
   "source": [
    "\"\"\"\"\n",
    "Pregnancies : Number of times pregnant.\n",
    "Glucose : Plasma glucose concentration over 2 hours in an oral glucose tolerance test.\n",
    "BloodPressure : Diastolic blood pressure (mm Hg).\n",
    "SkinThickness : Triceps skinfold thickness (mm).\n",
    "Insulin : 2-Hour serum insulin (mu U/ml).\n",
    "BMI : Body mass index (weight in kg / height in m^2).\n",
    "DiabetesPedigreeFunction : Diabetes pedigree function, a genetic score of diabetes.\n",
    "Age : Age in years.\n",
    "\n",
    "\"\"\"\n"
   ],
   "id": "763be6b262f0ba09",
   "outputs": [
    {
     "data": {
      "text/plain": [
       "'\"\\nPregnancies : Number of times pregnant.\\nGlucose : Plasma glucose concentration over 2 hours in an oral glucose tolerance test.\\nBloodPressure : Diastolic blood pressure (mm Hg).\\nSkinThickness : Triceps skinfold thickness (mm).\\nInsulin : 2-Hour serum insulin (mu U/ml).\\nBMI : Body mass index (weight in kg / height in m^2).\\nDiabetesPedigreeFunction : Diabetes pedigree function, a genetic score of diabetes.\\nAge : Age in years.\\n\\n'"
      ]
     },
     "execution_count": 229,
     "metadata": {},
     "output_type": "execute_result"
    }
   ],
   "execution_count": 229
  },
  {
   "metadata": {
    "ExecuteTime": {
     "end_time": "2024-11-26T21:15:23.523181Z",
     "start_time": "2024-11-26T21:15:23.447909Z"
    }
   },
   "cell_type": "code",
   "source": [
    "model = LogisticRegression()\n",
    "model.fit(X_train,y_train,1000)\n",
    "    print(model.predict([0,50,66,25,90,28,0.15,21]))\n"
   ],
   "id": "48b718bcea599b7",
   "outputs": [
    {
     "name": "stdout",
     "output_type": "stream",
     "text": [
      "Epoch 0: Loss = 0.6930213499226927\n",
      "Epoch 100: Loss = 0.6809338403143317\n",
      "Epoch 200: Loss = 0.6697700831771409\n",
      "Epoch 300: Loss = 0.6594488651123508\n",
      "Epoch 400: Loss = 0.6498952766398753\n",
      "Epoch 500: Loss = 0.6410406622627157\n",
      "Epoch 600: Loss = 0.6328224155415818\n",
      "Epoch 700: Loss = 0.6251836687769569\n",
      "Epoch 800: Loss = 0.6180729179575339\n",
      "Epoch 900: Loss = 0.6114436145766924\n",
      "1\n"
     ]
    }
   ],
   "execution_count": 230
  }
 ],
 "metadata": {
  "kernelspec": {
   "display_name": "Python 3",
   "language": "python",
   "name": "python3"
  },
  "language_info": {
   "codemirror_mode": {
    "name": "ipython",
    "version": 2
   },
   "file_extension": ".py",
   "mimetype": "text/x-python",
   "name": "python",
   "nbconvert_exporter": "python",
   "pygments_lexer": "ipython2",
   "version": "2.7.6"
  }
 },
 "nbformat": 4,
 "nbformat_minor": 5
}
